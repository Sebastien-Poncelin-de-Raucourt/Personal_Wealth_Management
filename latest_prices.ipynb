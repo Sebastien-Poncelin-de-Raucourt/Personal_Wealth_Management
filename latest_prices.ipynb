{
 "cells": [
  {
   "cell_type": "code",
   "execution_count": 3,
   "id": "d97e3662-666b-48bc-a387-0c09e61d0291",
   "metadata": {
    "tags": []
   },
   "outputs": [
    {
     "name": "stderr",
     "output_type": "stream",
     "text": [
      "[*********************100%%**********************]  1 of 1 completed\n",
      "[*********************100%%**********************]  1 of 1 completed\n",
      "[*********************100%%**********************]  1 of 1 completed\n",
      "[*********************100%%**********************]  1 of 1 completed\n",
      "[*********************100%%**********************]  1 of 1 completed\n",
      "[*********************100%%**********************]  1 of 1 completed\n",
      "[*********************100%%**********************]  1 of 1 completed\n",
      "[*********************100%%**********************]  1 of 1 completed\n",
      "[*********************100%%**********************]  1 of 1 completed\n",
      "[*********************100%%**********************]  1 of 1 completed\n",
      "[*********************100%%**********************]  1 of 1 completed\n",
      "[*********************100%%**********************]  1 of 1 completed\n",
      "[*********************100%%**********************]  1 of 1 completed\n",
      "[*********************100%%**********************]  1 of 1 completed\n",
      "[*********************100%%**********************]  1 of 1 completed\n",
      "[*********************100%%**********************]  1 of 1 completed\n",
      "[*********************100%%**********************]  1 of 1 completed\n",
      "[*********************100%%**********************]  1 of 1 completed"
     ]
    },
    {
     "name": "stdout",
     "output_type": "stream",
     "text": [
      "Date                              2024-10-14  2024-10-15\n",
      "Nasdaq 100                          20439.05         NaN\n",
      "S&P 500                              5859.85         NaN\n",
      "Dow Jones                           43065.22         NaN\n",
      "ESTX 50 PR.EUR                       5041.01         NaN\n",
      "CAC 40                               7602.06         NaN\n",
      "DAX 30                              19508.29         NaN\n",
      "FTSE 100                             8292.70         NaN\n",
      "US 10-Year Yield                        4.10         NaN\n",
      "US 2-Year Yield Futures,Oct-2024        3.95         NaN\n",
      "CBOE Volatility Index                  19.70         NaN\n",
      "WTI Crude Oil                          71.71         NaN\n",
      "Brent Crude Oil                        75.30         NaN\n",
      "Gold                                 2662.50         NaN\n",
      "EUR/USD                                  NaN        1.09\n",
      "USD/JPY                                  NaN      149.70\n",
      "EUR/JPY                                  NaN      163.12\n",
      "EUR/GBP                                  NaN        0.83\n",
      "Bitcoin USD                              NaN    65395.33\n"
     ]
    },
    {
     "name": "stderr",
     "output_type": "stream",
     "text": [
      "\n"
     ]
    }
   ],
   "source": [
    "import yfinance as yf\n",
    "import pandas as pd\n",
    "\n",
    "# Define the tickers for the indices, US 10-year yield, WTI, and Brent\n",
    "tickers = {\n",
    "    'Nasdaq 100': '^NDX',\n",
    "    'S&P 500': '^GSPC',\n",
    "    'Dow Jones': '^DJI',\n",
    "    'ESTX 50 PR.EUR': '^STOXX50E',\n",
    "    'CAC 40': '^FCHI',\n",
    "    'DAX 30': '^GDAXI',\n",
    "    'FTSE 100': '^FTSE',\n",
    "    'US 10-Year Yield': '^TNX',\n",
    "    # 'France 10-Year Yield': 'FR10Y',\n",
    "    'US 2-Year Yield Futures,Oct-2024': '2YY=F',\n",
    "    # 'Germany 2-Year Yield': 'DE2Y',\n",
    "    'CBOE Volatility Index':'^VIX',\n",
    "    'WTI Crude Oil': 'CL=F',\n",
    "    'Brent Crude Oil': 'BZ=F',\n",
    "    'Gold': 'GC=F',\n",
    "    'EUR/USD': 'EURUSD=X',\n",
    "    'USD/JPY': 'JPY=X',\n",
    "    'EUR/JPY': 'EURJPY=X',\n",
    "    'EUR/GBP': 'EURGBP=X',\n",
    "    'Bitcoin USD': 'BTC-USD'\n",
    "}\n",
    "\n",
    "# Download the latest data for the indices, US 10-year yield, WTI, and Brent\n",
    "data = {name: yf.download(ticker, period=\"1d\")['Adj Close'] for name, ticker in tickers.items()}\n",
    "\n",
    "# Convert to DataFrame for better presentation\n",
    "latest_prices = pd.DataFrame(data)\n",
    "\n",
    "# Invert (transpose) rows and columns\n",
    "transposed_prices = latest_prices.T\n",
    "\n",
    "# Round the prices to two decimal places\n",
    "transposed_prices = transposed_prices.round(2)\n",
    "\n",
    "# Display the transposed prices\n",
    "print(transposed_prices)\n"
   ]
  },
  {
   "cell_type": "code",
   "execution_count": null,
   "id": "5feecd74-fd28-45b6-b61c-9ad3f72d686d",
   "metadata": {},
   "outputs": [],
   "source": [
    "Give me the latest price for the below:\n",
    "    France 10 year yield\n",
    "    Germman 10 year yield"
   ]
  }
 ],
 "metadata": {
  "kernelspec": {
   "display_name": "Python 3 (ipykernel)",
   "language": "python",
   "name": "python3"
  },
  "language_info": {
   "codemirror_mode": {
    "name": "ipython",
    "version": 3
   },
   "file_extension": ".py",
   "mimetype": "text/x-python",
   "name": "python",
   "nbconvert_exporter": "python",
   "pygments_lexer": "ipython3",
   "version": "3.11.7"
  }
 },
 "nbformat": 4,
 "nbformat_minor": 5
}
