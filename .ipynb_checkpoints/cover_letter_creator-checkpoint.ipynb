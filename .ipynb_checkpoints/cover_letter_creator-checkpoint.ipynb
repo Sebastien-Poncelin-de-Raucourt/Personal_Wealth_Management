{
 "cells": [
  {
   "cell_type": "code",
   "execution_count": 1,
   "id": "b3abe099-fb42-421e-aa5b-b90ba40503a2",
   "metadata": {
    "tags": []
   },
   "outputs": [
    {
     "name": "stdout",
     "output_type": "stream",
     "text": [
      "Collecting fpdf2\n",
      "  Downloading fpdf2-2.8.1-py2.py3-none-any.whl.metadata (63 kB)\n",
      "     ---------------------------------------- 0.0/63.1 kB ? eta -:--:--\n",
      "     ------ --------------------------------- 10.2/63.1 kB ? eta -:--:--\n",
      "     ------------ ------------------------- 20.5/63.1 kB 162.5 kB/s eta 0:00:01\n",
      "     ------------------ ------------------- 30.7/63.1 kB 217.9 kB/s eta 0:00:01\n",
      "     ------------------------------------ - 61.4/63.1 kB 363.1 kB/s eta 0:00:01\n",
      "     -------------------------------------- 63.1/63.1 kB 339.0 kB/s eta 0:00:00\n",
      "Requirement already satisfied: defusedxml in c:\\users\\sebas\\anaconda3\\lib\\site-packages (from fpdf2) (0.7.1)\n",
      "Requirement already satisfied: Pillow!=9.2.*,>=6.2.2 in c:\\users\\sebas\\anaconda3\\lib\\site-packages (from fpdf2) (10.2.0)\n",
      "Collecting fonttools>=4.34.0 (from fpdf2)\n",
      "  Downloading fonttools-4.54.1-cp311-cp311-win_amd64.whl.metadata (167 kB)\n",
      "     ---------------------------------------- 0.0/167.0 kB ? eta -:--:--\n",
      "     -------------------------------------  163.8/167.0 kB 4.8 MB/s eta 0:00:01\n",
      "     -------------------------------------- 167.0/167.0 kB 2.5 MB/s eta 0:00:00\n",
      "Downloading fpdf2-2.8.1-py2.py3-none-any.whl (227 kB)\n",
      "   ---------------------------------------- 0.0/227.8 kB ? eta -:--:--\n",
      "   ---------------------------------------- 227.8/227.8 kB 7.0 MB/s eta 0:00:00\n",
      "Downloading fonttools-4.54.1-cp311-cp311-win_amd64.whl (2.2 MB)\n",
      "   ---------------------------------------- 0.0/2.2 MB ? eta -:--:--\n",
      "   -------------- ------------------------- 0.8/2.2 MB 24.0 MB/s eta 0:00:01\n",
      "   ----------------- ---------------------- 1.0/2.2 MB 6.9 MB/s eta 0:00:01\n",
      "   ---------------------------------------  2.2/2.2 MB 11.7 MB/s eta 0:00:01\n",
      "   ---------------------------------------- 2.2/2.2 MB 10.1 MB/s eta 0:00:00\n",
      "Installing collected packages: fonttools, fpdf2\n",
      "  Attempting uninstall: fonttools\n",
      "    Found existing installation: fonttools 4.25.0\n",
      "    Uninstalling fonttools-4.25.0:\n",
      "      Successfully uninstalled fonttools-4.25.0\n",
      "Successfully installed fonttools-4.54.1 fpdf2-2.8.1\n",
      "Note: you may need to restart the kernel to use updated packages.\n"
     ]
    }
   ],
   "source": [
    "# pip install fpdf2"
   ]
  },
  {
   "cell_type": "code",
   "execution_count": 12,
   "id": "daad5207-8733-40f6-9ec2-c2816592a3b2",
   "metadata": {
    "tags": []
   },
   "outputs": [
    {
     "name": "stderr",
     "output_type": "stream",
     "text": [
      "C:\\Users\\sebas\\AppData\\Local\\Temp\\ipykernel_35672\\216190815.py:53: DeprecationWarning: \"uni\" parameter is deprecated since v2.5.1, unused and will soon be removed\n",
      "  pdf.add_font(\"DejaVu\", \"\", \"DejaVuSans.ttf\", uni=True)  # Add DejaVu font for Unicode support\n"
     ]
    },
    {
     "ename": "FileNotFoundError",
     "evalue": "TTF Font file not found: DejaVuSans.ttf",
     "output_type": "error",
     "traceback": [
      "\u001b[1;31m---------------------------------------------------------------------------\u001b[0m",
      "\u001b[1;31mFileNotFoundError\u001b[0m                         Traceback (most recent call last)",
      "Cell \u001b[1;32mIn[12], line 68\u001b[0m\n\u001b[0;32m     65\u001b[0m     \u001b[38;5;28mprint\u001b[39m(\u001b[38;5;124mf\u001b[39m\u001b[38;5;124m\"\u001b[39m\u001b[38;5;124mPDF saved as \u001b[39m\u001b[38;5;132;01m{\u001b[39;00mfilename\u001b[38;5;132;01m}\u001b[39;00m\u001b[38;5;124m\"\u001b[39m)\n\u001b[0;32m     67\u001b[0m \u001b[38;5;66;03m# Step 3: Generate PDF with today's date\u001b[39;00m\n\u001b[1;32m---> 68\u001b[0m generate_pdf(date\u001b[38;5;241m=\u001b[39mdatetime\u001b[38;5;241m.\u001b[39mtoday()\u001b[38;5;241m.\u001b[39mstrftime(\u001b[38;5;124m\"\u001b[39m\u001b[38;5;132;01m%d\u001b[39;00m\u001b[38;5;124m \u001b[39m\u001b[38;5;124m%\u001b[39m\u001b[38;5;124mB \u001b[39m\u001b[38;5;124m%\u001b[39m\u001b[38;5;124mY\u001b[39m\u001b[38;5;124m\"\u001b[39m))\n",
      "Cell \u001b[1;32mIn[12], line 53\u001b[0m, in \u001b[0;36mgenerate_pdf\u001b[1;34m(date, recipient, filename)\u001b[0m\n\u001b[0;32m     51\u001b[0m pdf \u001b[38;5;241m=\u001b[39m FPDF()\n\u001b[0;32m     52\u001b[0m pdf\u001b[38;5;241m.\u001b[39madd_page()\n\u001b[1;32m---> 53\u001b[0m pdf\u001b[38;5;241m.\u001b[39madd_font(\u001b[38;5;124m\"\u001b[39m\u001b[38;5;124mDejaVu\u001b[39m\u001b[38;5;124m\"\u001b[39m, \u001b[38;5;124m\"\u001b[39m\u001b[38;5;124m\"\u001b[39m, \u001b[38;5;124m\"\u001b[39m\u001b[38;5;124mDejaVuSans.ttf\u001b[39m\u001b[38;5;124m\"\u001b[39m, uni\u001b[38;5;241m=\u001b[39m\u001b[38;5;28;01mTrue\u001b[39;00m)  \u001b[38;5;66;03m# Add DejaVu font for Unicode support\u001b[39;00m\n\u001b[0;32m     54\u001b[0m pdf\u001b[38;5;241m.\u001b[39mset_font(\u001b[38;5;124m\"\u001b[39m\u001b[38;5;124mDejaVu\u001b[39m\u001b[38;5;124m\"\u001b[39m, size\u001b[38;5;241m=\u001b[39m\u001b[38;5;241m12\u001b[39m)\n\u001b[0;32m     56\u001b[0m \u001b[38;5;66;03m# Fill in the template with provided date and recipient\u001b[39;00m\n",
      "File \u001b[1;32m~\\anaconda3\\Lib\\site-packages\\fpdf\\fpdf.py:1933\u001b[0m, in \u001b[0;36mFPDF.add_font\u001b[1;34m(self, family, style, fname, uni)\u001b[0m\n\u001b[0;32m   1931\u001b[0m         \u001b[38;5;28;01mbreak\u001b[39;00m\n\u001b[0;32m   1932\u001b[0m \u001b[38;5;28;01melse\u001b[39;00m:\n\u001b[1;32m-> 1933\u001b[0m     \u001b[38;5;28;01mraise\u001b[39;00m \u001b[38;5;167;01mFileNotFoundError\u001b[39;00m(\u001b[38;5;124mf\u001b[39m\u001b[38;5;124m\"\u001b[39m\u001b[38;5;124mTTF Font file not found: \u001b[39m\u001b[38;5;132;01m{\u001b[39;00mfname\u001b[38;5;132;01m}\u001b[39;00m\u001b[38;5;124m\"\u001b[39m)\n\u001b[0;32m   1935\u001b[0m \u001b[38;5;28;01mif\u001b[39;00m family \u001b[38;5;129;01mis\u001b[39;00m \u001b[38;5;28;01mNone\u001b[39;00m:\n\u001b[0;32m   1936\u001b[0m     family \u001b[38;5;241m=\u001b[39m font_file_path\u001b[38;5;241m.\u001b[39mstem\n",
      "\u001b[1;31mFileNotFoundError\u001b[0m: TTF Font file not found: DejaVuSans.ttf"
     ]
    }
   ],
   "source": [
    "from datetime import datetime\n",
    "from fpdf import FPDF\n",
    "\n",
    "# Step 1: Define the cover letter details in a template with placeholders\n",
    "cover_letter_template = \"\"\"\n",
    "UBS                                                                Sébastien DE RAUCOURT\n",
    "                                                                    sebastien.poncelinderaucourt@skema.edu\n",
    "\n",
    "Geneva, {date}\n",
    "\n",
    "Application 2025 Graduate Talent Program – Global Markets – Trading\n",
    "\n",
    "Dear {recipient},\n",
    "\n",
    "My name is Sébastien DE RAUCOURT, and I am currently a final-year student at\n",
    "SKEMA Business School in France.\n",
    "\n",
    "Highly interested in UBS, I had the pleasure to connect with Jovana Milovanovic and Nicolas\n",
    "GUITTARD, who gave me great insight into the firm’s different divisions, roles, and culture.\n",
    "That is why I am writing to express my interest in applying for this position.\n",
    "\n",
    "My experiences in trading, portfolio management, and structuring in three international banks\n",
    "have allowed me to enhance my analytical and communication skills through diverse types of \n",
    "analysis, business ideas, and reporting. Moreover, I worked closely with the sales team to provide \n",
    "clients with the best and most accurate responses and services. I have faced clients to explain \n",
    "pricing, complex valuation models, strategies, and market trends. These experiences have been \n",
    "very rewarding, yet I am eager to deepen my understanding of financial markets. Currently, I am \n",
    "pursuing CFA certification and studying quantitative subjects such as Data Science, Python, Machine \n",
    "Learning, R, SQL, Power BI, and VBA, aiming to bring the best of my experience to your team.\n",
    "\n",
    "I strongly believe that UBS would be an ideal place to start my career, as it is a leading global \n",
    "investment bank known for excellence in derivatives trading, structured finance, and asset management. \n",
    "I am inspired by UBS's achievements, including its recognition as the derivatives house of the year \n",
    "at the Asia Risk Awards in 2020, and innovations such as merging wealth management with investment \n",
    "banking or its T-Pricer technology, proving UBS’s commitment to creativity. For these reasons, UBS \n",
    "is the company I am most passionate about joining.\n",
    "\n",
    "I believe my skill set, drive, and determination will make me a valuable asset to UBS, and I am\n",
    "excited at the prospect of joining your team. I look forward to the opportunity to discuss my\n",
    "motivation with you and hope to hear from you soon.\n",
    "\n",
    "Yours faithfully,\n",
    "\n",
    "Sébastien DE RAUCOURT\n",
    "sebastien.poncelinderaucourt@skema.edu\n",
    "\"\"\"\n",
    "\n",
    "# Step 2: Function to generate the PDF\n",
    "def generate_pdf(date, recipient=\"Sir or Madam\", filename=\"Cover_Letter_UBS.pdf\"):\n",
    "    # Create a new FPDF object\n",
    "    pdf = FPDF()\n",
    "    pdf.add_page()\n",
    "    pdf.add_font(\"DejaVu\", \"\", \"DejaVuSans.ttf\", uni=True)  # Add DejaVu font for Unicode support\n",
    "    pdf.set_font(\"DejaVu\", size=12)\n",
    "    \n",
    "    # Fill in the template with provided date and recipient\n",
    "    cover_letter = cover_letter_template.format(date=date, recipient=recipient)\n",
    "\n",
    "    # Add each line of the cover letter text to the PDF, adding new lines for each paragraph\n",
    "    for line in cover_letter.split(\"\\n\"):\n",
    "        pdf.cell(0, 10, line, new_x=\"LMARGIN\", new_y=\"NEXT\")\n",
    "    \n",
    "    # Output the PDF\n",
    "    pdf.output(filename)\n",
    "    print(f\"PDF saved as {filename}\")\n",
    "\n",
    "# Step 3: Generate PDF with today's date\n",
    "generate_pdf(date=datetime.today().strftime(\"%d %B %Y\"))\n"
   ]
  },
  {
   "cell_type": "code",
   "execution_count": null,
   "id": "39f41fa5-1c50-4acf-8c9b-95117c1e2d5a",
   "metadata": {},
   "outputs": [],
   "source": []
  }
 ],
 "metadata": {
  "kernelspec": {
   "display_name": "Python 3 (ipykernel)",
   "language": "python",
   "name": "python3"
  },
  "language_info": {
   "codemirror_mode": {
    "name": "ipython",
    "version": 3
   },
   "file_extension": ".py",
   "mimetype": "text/x-python",
   "name": "python",
   "nbconvert_exporter": "python",
   "pygments_lexer": "ipython3",
   "version": "3.11.7"
  }
 },
 "nbformat": 4,
 "nbformat_minor": 5
}
